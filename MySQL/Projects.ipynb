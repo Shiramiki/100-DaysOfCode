User
Day 1: Basic Concepts and Setup
Project Description:
Your task for the first two days is to set up a basic MySQL database on your local machine. Follow the steps below to create a simple database and table.

Instructions:

**Install MySQL:**
Download and install MySQL on your machine. You can find installation instructions on the official MySQL website: MySQL Downloads.

**Create a Database:**
Open MySQL Workbench or any MySQL client of your choice.

Execute the following SQL query to create a new database named first_database:

```sql
CREATE DATABASE IF NOT EXISTS first_database;
```

**Create a Table:**
Within the newly created database, execute the following query to create a table named first_table:

```sql
USE first_database;

CREATE TABLE IF NOT EXISTS first_table (
    item_id INT AUTO_INCREMENT PRIMARY KEY,
    item_name VARCHAR(50) NOT NULL,
    quantity INT NOT NULL,
    price DECIMAL(10,2) NOT NULL,
    added_at TIMESTAMP DEFAULT CURRENT_TIMESTAMP
);
```

This table stores information about items, including a unique item ID, item name, quantity, price, and a timestamp indicating when the item was added.

**Insert Sample Data:**
Populate the first_table table with sample data using the following query:

```sql
INSERT INTO first_table (item_name, quantity, price) VALUES
    ('Widget A', 100, 5.99),
    ('Gadget B', 50, 12.50),
    ('Thingamajig C', 200, 2.25);
```

Feel free to add more sample data to the table.

Day 2: Basic Concepts and Setup (Continued)
Project Description:
Today, your task is to independently set up a new MySQL database and design a table. Follow the detailed instructions below to create a database named your_second_database and design a table named your_second_table to manage information about books.

Instructions:

**Create a New Database:**
In your MySQL client, create a new database with the name your_second_database.

**Design a New Table:**
Within the newly created database, design a table named your_second_table to store information about books. Create the following columns:

- `book_id`: This should be an integer, auto-incrementing, and set as the primary key.
- `title`: A text field for the title of the book, with a maximum length of 100 characters and cannot be empty.
- `author`: A text field for the author's name, with a maximum length of 50 characters and cannot be empty.
- `publication_year`: An integer field for the year the book was published.
- `price`: A decimal field with two decimal places for the price of the book, and it cannot be empty.

**Insert New Sample Data:**
Populate the your_second_table table with the following sample data:

- Book: "The Catcher in the Rye"
  - Author: J.D. Salinger
  - Publication Year: 1951
  - Price: $14.99

- Book: "Pride and Prejudice"
  - Author: Jane Austen
  - Publication Year: 1813
  - Price: $9.75

- Book: "The Hobbit"
  - Author: J.R.R. Tolkien
  - Publication Year: 1937
  - Price: $12.50

**Project Submission:**
Provide detailed descriptions or screenshots of your database creation, table structure, and the result of the sample data in the your_second_database and your_second_table. Ensure that your setup follows good practices, including appropriate data types, constraints, and naming conventions. This hands-on approach allows you to apply the knowledge gained on Day 1 to create a new database and table on Day 2.

Certainly, I apologize for any confusion. Let's expand on step 4 for Day 3 to provide more details:

### Day 3: Learn Basic SQL Queries

**Project Description:**
On Day 3, you will focus on learning basic SQL queries. Start by creating a new database named `your_third_database` and a table named `your_third_table`. Practice using SELECT, INSERT, UPDATE, and DELETE queries on this new table.

**Instructions:**

1. **Create a New Database:**
   - In your MySQL client, create a new database named `your_third_database`:
     ```sql
     CREATE DATABASE IF NOT EXISTS your_third_database;
     ```

2. **Create a New Table:**
   - Within the `your_third_database`, design a table named `your_third_table`. Choose a theme for this table (e.g., employees, products) and define meaningful columns with appropriate data types.
     ```sql
     USE your_third_database;

     CREATE TABLE IF NOT EXISTS your_third_table (
         employee_id INT AUTO_INCREMENT PRIMARY KEY,
         employee_name VARCHAR(50) NOT NULL,
         department VARCHAR(50),
         salary DECIMAL(10,2),
         hire_date DATE
     );
     ```

3. **Insert Sample Data:**
   - Populate the `your_third_table` with sample data using INSERT queries. Add records to the table based on the chosen theme.
     ```sql
     INSERT INTO your_third_table (employee_name, department, salary, hire_date) VALUES
         ('John Doe', 'IT', 60000.00, '2022-01-10'),
         ('Jane Smith', 'Marketing', 55000.00, '2022-02-15'),
         ('Bob Johnson', 'Finance', 70000.00, '2021-11-05');
     ```

4. **Practice Basic Queries:**
   - Execute basic SELECT, INSERT, UPDATE, and DELETE queries on `your_third_table`. Apply filters and conditions to retrieve, add, modify, and delete data.

   - **Example SELECT Queries:**
     - Retrieve all employees:
       ```sql
       SELECT * FROM your_third_table;
       ```

     - Retrieve employees in the IT department:
       ```sql
       SELECT * FROM your_third_table WHERE department = 'IT';
       ```

   - **Example INSERT Query:**
     - Add a new employee:
       ```sql
       INSERT INTO your_third_table (employee_name, department, salary, hire_date) VALUES
           ('Alice Brown', 'HR', 62000.00, '2022-03-20');
       ```

   - **Example UPDATE Query:**
     - Update salary for an employee:
       ```sql
       UPDATE your_third_table SET salary = 65000.00 WHERE employee_name = 'John Doe';
       ```

   - **Example DELETE Query:**
     - Remove an employee:
       ```sql
       DELETE FROM your_third_table WHERE employee_name = 'Jane Smith';
       ```

**Project Submission:**
Provide detailed documentation or screenshots demonstrating the successful execution of the basic SQL queries on `your_third_table`. Showcase the results of SELECT queries and the impact of INSERT, UPDATE, and DELETE queries. This practical exercise reinforces your skills in working with SQL queries.

I appreciate your feedback. I understand the importance of providing comprehensive information. Let me provide you with the missing details for update and delete activities in Day 4:

---

### Day 4: Explore Data Types and Modify Table Structure

**Project Description:**
Today's task is to independently set up a new MySQL database and design a table. Follow the detailed instructions below to create a database named `your_fourth_database` and design a table named `your_fourth_table` to manage information about products.

**Instructions:**

1. **Create a New Database:**
   - In your MySQL client, create a new database named `your_fourth_database`.

2. **Design a New Table:**
   - Within the newly created database, design a table named `your_fourth_table` to store information about products. Create the following columns:
     - `product_id`: An integer, auto-incrementing, and set as the primary key.
     - `product_name`: A text field for the name of the product, with a maximum length of 100 characters and cannot be empty.
     - `stock_quantity`: An integer field for the quantity of the product in stock, and it cannot be empty.
     - `price`: A decimal field with two decimal places for the price of the product, and it cannot be empty.
     - `release_date`: A date field for the release date of the product.

3. **Insert New Sample Data:**
   - Populate the `your_fourth_table` table with the following sample data:
     - Product: "Laptop X"
       - Stock Quantity: 50
       - Price: $1200.00
       - Release Date: 2022-05-15
     - Product: "Smartphone Y"
       - Stock Quantity: 100
       - Price: $800.50
       - Release Date: 2022-03-10
     - Product: "Headphones Z"
       - Stock Quantity: 200
       - Price: $99.99
       - Release Date: 2022-07-01

4. **Update and Delete Activities:**
   - Execute UPDATE and DELETE queries on `your_fourth_table` to modify and remove sample data. For example:
     - Update the price of "Laptop X" to $1300.00.
     - Delete the record for "Headphones Z."

**Project Submission:**
Provide detailed descriptions or screenshots of your database creation, table structure, and the result of the sample data in the `your_fourth_database` and `your_fourth_table`, including the outcomes of the update and delete activities. Ensure that your setup follows good practices, including appropriate data types, constraints, and naming conventions. This hands-on approach allows you to apply the knowledge gained on Day 2 to create a new database and table on Day 4.